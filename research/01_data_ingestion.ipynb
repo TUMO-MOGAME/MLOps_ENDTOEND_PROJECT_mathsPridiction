{
 "cells": [
  {
   "cell_type": "code",
   "execution_count": 1,
   "id": "b0fe6115",
   "metadata": {},
   "outputs": [],
   "source": [
    "import os\n",
    "import sys\n",
    "sys.path.append('C:/ALL_FROM_DESKTOP/Data_Science_ENDtoEND proj/proj_1/src')\n"
   ]
  },
  {
   "cell_type": "code",
   "execution_count": 2,
   "id": "2e0f28b1",
   "metadata": {},
   "outputs": [
    {
     "data": {
      "text/plain": [
       "'c:\\\\ALL_FROM_DESKTOP\\\\Data_Science_ENDtoEND proj\\\\proj_1\\\\research'"
      ]
     },
     "execution_count": 2,
     "metadata": {},
     "output_type": "execute_result"
    }
   ],
   "source": [
    "%pwd"
   ]
  },
  {
   "cell_type": "code",
   "execution_count": 3,
   "id": "313c35ad",
   "metadata": {},
   "outputs": [],
   "source": [
    "os.chdir('c:\\\\ALL_FROM_DESKTOP\\\\Data_Science_ENDtoEND proj\\\\proj_1'\n",
    ")"
   ]
  },
  {
   "cell_type": "code",
   "execution_count": 4,
   "id": "6f340a4d",
   "metadata": {},
   "outputs": [
    {
     "data": {
      "text/plain": [
       "'c:\\\\ALL_FROM_DESKTOP\\\\Data_Science_ENDtoEND proj\\\\proj_1'"
      ]
     },
     "execution_count": 4,
     "metadata": {},
     "output_type": "execute_result"
    }
   ],
   "source": [
    "%pwd"
   ]
  },
  {
   "cell_type": "markdown",
   "id": "f684e66e",
   "metadata": {},
   "source": [
    "# **Entity/init.py**"
   ]
  },
  {
   "cell_type": "code",
   "execution_count": 5,
   "id": "6bc6335a",
   "metadata": {},
   "outputs": [],
   "source": [
    "from dataclasses import dataclass\n",
    "from pathlib import Path\n",
    "\n",
    "@dataclass(frozen=True)\n",
    "class DataIngestionConfig:\n",
    "    root_dir: Path\n",
    "    rawdata_dir: Path\n",
    "    artifacts_root: Path\n"
   ]
  },
  {
   "cell_type": "markdown",
   "id": "874dc982",
   "metadata": {},
   "source": [
    "# **Confi/configaration.py**"
   ]
  },
  {
   "cell_type": "code",
   "execution_count": 6,
   "id": "87dbd111",
   "metadata": {},
   "outputs": [],
   "source": [
    "from src.mathematicsScore.constants import *\n",
    "from src.mathematicsScore.utils.common import read_yaml, create_directories\n",
    "from src.mathematicsScore.entity import DataIngestionConfig\n"
   ]
  },
  {
   "cell_type": "code",
   "execution_count": 7,
   "id": "240dd247",
   "metadata": {},
   "outputs": [],
   "source": [
    "class ConfigurationManager:\n",
    "    def __init__(\n",
    "        self,\n",
    "        config_filepath = CONFIG_FILE_PATH,\n",
    "        params_filepath = PARAMS_FILE_PATH):\n",
    "\n",
    "        self.config = read_yaml(config_filepath)\n",
    "        self.params = read_yaml(params_filepath)\n",
    "\n",
    "        create_directories([self.config.artifacts_root])\n",
    "\n",
    "    def get_data_ingestion_config(self) -> DataIngestionConfig:\n",
    "        config = self.config.data_ingestion\n",
    "\n",
    "        create_directories([config.root_dir])\n",
    "\n",
    "        data_ingestion_config = DataIngestionConfig(\n",
    "            root_dir=config.root_dir,\n",
    "            source_URL=config.RAWDATA\n",
    "        )\n",
    "\n",
    "        return data_ingestion_config"
   ]
  },
  {
   "cell_type": "markdown",
   "id": "00405172",
   "metadata": {},
   "source": [
    "# **Componets/data_ingestion.py**"
   ]
  },
  {
   "cell_type": "code",
   "execution_count": 8,
   "id": "c76106b4",
   "metadata": {},
   "outputs": [
    {
     "name": "stdout",
     "output_type": "stream",
     "text": [
      "Config file path: C:\\ALL_FROM_DESKTOP\\Data_Science_ENDtoEND proj\\proj_1\\config\\config.yaml\n",
      "Params file path: C:\\ALL_FROM_DESKTOP\\Data_Science_ENDtoEND proj\\proj_1\\params.yaml\n"
     ]
    }
   ],
   "source": [
    "import os\n",
    "from src.mathematicsScore.logging import logger\n",
    "from src.mathematicsScore.config.configuration import ConfigurationManager\n",
    "from src.mathematicsScore.utils.common import get_size\n",
    "from src.mathematicsScore.entity import DataIngestionConfig"
   ]
  },
  {
   "cell_type": "code",
   "execution_count": null,
   "id": "6b35e221",
   "metadata": {},
   "outputs": [
    {
     "name": "stdout",
     "output_type": "stream",
     "text": [
      "Reading data from C:/ALL_FROM_DESKTOP/Data_Science_ENDtoEND proj/proj_1\\RAWDATA\\raw_data.csv\n",
      "Reading data from C:/ALL_FROM_DESKTOP/Data_Science_ENDtoEND proj/proj_1\\RAWDATA\\test_data.csv\n",
      "Reading data from C:/ALL_FROM_DESKTOP/Data_Science_ENDtoEND proj/proj_1\\RAWDATA\\train_data.csv\n",
      "   gender race_ethnicity parental_level_of_education         lunch  \\\n",
      "0  female        group B           bachelor's degree      standard   \n",
      "1  female        group C                some college      standard   \n",
      "2  female        group B             master's degree      standard   \n",
      "3    male        group A          associate's degree  free/reduced   \n",
      "4    male        group C                some college      standard   \n",
      "\n",
      "  test_preparation_course  math_score  reading_score  writing_score  \n",
      "0                    none          72             72             74  \n",
      "1               completed          69             90             88  \n",
      "2                    none          90             95             93  \n",
      "3                    none          47             57             44  \n",
      "4                    none          76             78             75  \n"
     ]
    }
   ],
   "source": [
    "import os\n",
    "import urllib.request as request\n",
    "from src.mathematicsScore.logging import logger\n",
    "from src.mathematicsScore.utils.common import get_size\n",
    "from pathlib import Path\n",
    "from src.mathematicsScore.entity import DataIngestionConfig\n",
    "import os\n",
    "import pandas as pd\n",
    "\n",
    "\n",
    "class DataIngestion:\n",
    "    \"\"\"Class to handle data ingestion from the 'RAWDATA' folder.\"\"\"\n",
    "\n",
    "    def __init__(self, config: DataIngestionConfig):\n",
    "        \"\"\"Initializes the DataIngestion class with the configuration.\"\"\"\n",
    "        self.config = config\n",
    "        self.rawdata_folder_path = self.config.source_URL\n",
    "    \n",
    "    def check_rawdata_folder_exists(self):\n",
    "        \"\"\"Checks if the RAWDATA folder exists.\"\"\"\n",
    "        if not os.path.exists(self.rawdata_folder_path):\n",
    "            raise FileNotFoundError(f\"The folder 'RAWDATA' does not exist at path: {self.rawdata_folder_path}\")\n",
    "    \n",
    "    def list_files_in_rawdata(self):\n",
    "        \"\"\"Lists all files in the RAWDATA folder.\"\"\"\n",
    "        return os.listdir(self.rawdata_folder_path)\n",
    "    \n",
    "    def read_csv_file(self, file_path):\n",
    "        \"\"\"Reads a CSV file into a pandas dataframe.\"\"\"\n",
    "        try:\n",
    "            return pd.read_csv(file_path)\n",
    "        except Exception as e:\n",
    "            logger.error(f\"Error reading {file_path}: {e}\")\n",
    "            return None\n",
    "    \n",
    "    def ingest_data_from_rawdata_folder(self):\n",
    "        \"\"\"Ingests data from all CSV files in the RAWDATA folder.\"\"\"\n",
    "        self.check_rawdata_folder_exists()  # Check if the folder exists\n",
    "        files = self.list_files_in_rawdata()  # Get list of files in the RAWDATA folder\n",
    "        \n",
    "        # Initialize an empty list to store dataframes info\n",
    "        processed_files = []\n",
    "\n",
    "        # Loop over each file in the folder\n",
    "        for file in files:\n",
    "            file_path = os.path.join(self.rawdata_folder_path, file)\n",
    "\n",
    "            # Only process CSV files\n",
    "            if file.endswith('.csv'):\n",
    "                logger.info(f\"Reading data from {file_path}\")\n",
    "                df = self.read_csv_file(file_path)  # Read the CSV file\n",
    "\n",
    "                if df is not None:  # Ensure the file was read successfully\n",
    "                    # Prepare the output file path\n",
    "                    output_file_path = os.path.join(self.config.root_dir, file)\n",
    "                    \n",
    "                    # Check if the file already exists to avoid overwriting\n",
    "                    if os.path.exists(output_file_path):\n",
    "                        logger.warning(f\"{file} already exists in the output folder. It will be overwritten.\")\n",
    "\n",
    "                    # Save the CSV to the output folder\n",
    "                    df.to_csv(output_file_path, index=False)\n",
    "                    logger.info(f\"Saved {file} to {output_file_path} with {len(df)} rows\")\n",
    "\n",
    "                    # Append processed file details to the list\n",
    "                    processed_files.append({\n",
    "                        'filename': file,\n",
    "                        'path': output_file_path,\n",
    "                        'rows': len(df),\n",
    "                        'columns': len(df.columns),\n",
    "                        'dataframe': df\n",
    "                    })\n",
    "                else:\n",
    "                    logger.error(f\"Skipping {file} due to read error.\")\n",
    "\n",
    "        logger.info(f\"Data ingestion completed. Processed {len(processed_files)} files.\")\n",
    "        return processed_files\n"
   ]
  },
  {
   "cell_type": "markdown",
   "id": "63734a6a",
   "metadata": {},
   "source": [
    "# **pipeline/stage_01_data_ingestion.py**"
   ]
  },
  {
   "cell_type": "code",
   "execution_count": 10,
   "id": "48e531df",
   "metadata": {},
   "outputs": [],
   "source": [
    "from src.mathematicsScore.config.configuration import ConfigurationManager\n",
    "from src.mathematicsScore.entity import DataIngestionConfig\n",
    "from src.mathematicsScore.logging import logger"
   ]
  },
  {
   "cell_type": "code",
   "execution_count": 11,
   "id": "0729e7f1",
   "metadata": {},
   "outputs": [],
   "source": [
    "try:\n",
    "    config = ConfigurationManager()\n",
    "    data_ingestion_config = config.get_data_ingestion_config()\n",
    "    logger.info(f\"Data ingestion config: {data_ingestion_config}\")\n",
    "except Exception as e:\n",
    "    logger.error(f\"Error occurred: {e}\")"
   ]
  },
  {
   "cell_type": "code",
   "execution_count": null,
   "id": "212b94f5",
   "metadata": {},
   "outputs": [],
   "source": []
  }
 ],
 "metadata": {
  "kernelspec": {
   "display_name": "venv (3.11.5)",
   "language": "python",
   "name": "python3"
  },
  "language_info": {
   "codemirror_mode": {
    "name": "ipython",
    "version": 3
   },
   "file_extension": ".py",
   "mimetype": "text/x-python",
   "name": "python",
   "nbconvert_exporter": "python",
   "pygments_lexer": "ipython3",
   "version": "3.11.5"
  }
 },
 "nbformat": 4,
 "nbformat_minor": 5
}
