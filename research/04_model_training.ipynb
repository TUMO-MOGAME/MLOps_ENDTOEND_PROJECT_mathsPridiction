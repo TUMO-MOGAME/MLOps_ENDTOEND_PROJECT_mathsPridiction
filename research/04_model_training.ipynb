{
 "cells": [
  {
   "cell_type": "code",
   "execution_count": 1,
   "id": "12656459",
   "metadata": {},
   "outputs": [
    {
     "name": "stdout",
     "output_type": "stream",
     "text": [
      "Current directory: c:\\ALL_FROM_DESKTOP\\Data_Science_ENDtoEND proj\\proj_1\\research\n",
      "Changed to directory: c:\\ALL_FROM_DESKTOP\\Data_Science_ENDtoEND proj\\proj_1\n",
      "Config file exists: True\n"
     ]
    }
   ],
   "source": [
    "import os\n",
    "print(f'Current directory: {os.getcwd()}')\n",
    "os.chdir('../')\n",
    "print(f'Changed to directory: {os.getcwd()}')\n",
    "print(f'Config file exists: {os.path.exists(\"config/config.yaml\")}')"
   ]
  },
  {
   "cell_type": "code",
   "execution_count": 2,
   "id": "e1ca5274",
   "metadata": {},
   "outputs": [],
   "source": [
    "import os\n",
    "from dataclasses import dataclass\n",
    "from pathlib import Path\n",
    "\n",
    "\n",
    "@dataclass(frozen=True)\n",
    "class ModelTrainerConfig:\n",
    "    root_dir: Path\n",
    "    train_data_path: Path\n",
    "    test_data_path: Path\n",
    "    model_name: str\n",
    "    alpha: float\n",
    "    l1_ratio: float\n",
    "    target_column: str"
   ]
  },
  {
   "cell_type": "code",
   "execution_count": 3,
   "id": "8f8bfda9",
   "metadata": {},
   "outputs": [],
   "source": [
    "from src.mathematicsScore.constants import *\n",
    "from src.mathematicsScore.utils.common import read_yaml, create_directories"
   ]
  },
  {
   "cell_type": "code",
   "execution_count": 4,
   "id": "d8a0106e",
   "metadata": {},
   "outputs": [
    {
     "name": "stdout",
     "output_type": "stream",
     "text": [
      "Config file path: C:\\ALL_FROM_DESKTOP\\Data_Science_ENDtoEND proj\\proj_1\\config\\config.yaml\n",
      "Params file path: C:\\ALL_FROM_DESKTOP\\Data_Science_ENDtoEND proj\\proj_1\\params.yaml\n"
     ]
    }
   ],
   "source": [
    "# Just import, don't redefine\n",
    "from src.mathematicsScore.config.configuration import ConfigurationManager"
   ]
  },
  {
   "cell_type": "code",
   "execution_count": 5,
   "id": "5e7c3fbe",
   "metadata": {},
   "outputs": [],
   "source": [
    "from src.mathematicsScore.logging import logger\n",
    "import pandas as pd\n",
    "from sklearn.linear_model import ElasticNet\n",
    "import pickle\n",
    "import os\n",
    "\n",
    "class ModelTrainer:\n",
    "    def __init__(self, config: ModelTrainerConfig):\n",
    "        self.config = config\n",
    "\n",
    "    def train(self):\n",
    "        \"\"\"\n",
    "        Train the model using ElasticNet regression.\n",
    "        \"\"\"\n",
    "        try:\n",
    "            # Load the transformed training data\n",
    "            logger.info(f\"Loading training data from {self.config.train_data_path}\")\n",
    "            train_data = pd.read_csv(self.config.train_data_path)\n",
    "            logger.info(f\"Training data loaded with shape: {train_data.shape}\")\n",
    "\n",
    "            # Load the transformed test data\n",
    "            logger.info(f\"Loading test data from {self.config.test_data_path}\")\n",
    "            test_data = pd.read_csv(self.config.test_data_path)\n",
    "            logger.info(f\"Test data loaded with shape: {test_data.shape}\")\n",
    "\n",
    "            # Separate features and target\n",
    "            target_column = self.config.target_column\n",
    "            \n",
    "            # Check if target column exists, if not use math_score\n",
    "            if target_column not in train_data.columns:\n",
    "                if 'math_score' in train_data.columns:\n",
    "                    target_column = 'math_score'\n",
    "                    logger.warning(f\"Target column '{self.config.target_column}' not found, using 'math_score'\")\n",
    "                else:\n",
    "                    raise ValueError(f\"Neither '{self.config.target_column}' nor 'math_score' found in the data\")\n",
    "\n",
    "            # Split features and target for training data\n",
    "            X_train = train_data.drop(columns=[target_column])\n",
    "            y_train = train_data[target_column]\n",
    "\n",
    "            # Split features and target for test data\n",
    "            X_test = test_data.drop(columns=[target_column])\n",
    "            y_test = test_data[target_column]\n",
    "\n",
    "            logger.info(f\"Training features shape: {X_train.shape}\")\n",
    "            logger.info(f\"Training target shape: {y_train.shape}\")\n",
    "            logger.info(f\"Test features shape: {X_test.shape}\")\n",
    "            logger.info(f\"Test target shape: {y_test.shape}\")\n",
    "\n",
    "            # Initialize and train the ElasticNet model\n",
    "            logger.info(f\"Training ElasticNet model with alpha={self.config.alpha}, l1_ratio={self.config.l1_ratio}\")\n",
    "            model = ElasticNet(\n",
    "                alpha=self.config.alpha,\n",
    "                l1_ratio=self.config.l1_ratio,\n",
    "                random_state=42\n",
    "            )\n",
    "\n",
    "            # Train the model\n",
    "            model.fit(X_train, y_train)\n",
    "            logger.info(\"Model training completed\")\n",
    "\n",
    "            # Save the trained model\n",
    "            model_path = os.path.join(self.config.root_dir, self.config.model_name)\n",
    "            logger.info(f\"Saving model to {model_path}\")\n",
    "\n",
    "            with open(model_path, 'wb') as f:\n",
    "                pickle.dump(model, f)\n",
    "\n",
    "            logger.info(\"Model saved successfully\")\n",
    "\n",
    "            # Save training info for evaluation stage\n",
    "            training_info = {\n",
    "                'model_path': model_path,\n",
    "                'alpha': self.config.alpha,\n",
    "                'l1_ratio': self.config.l1_ratio,\n",
    "                'target_column': target_column,\n",
    "                'feature_columns': list(X_train.columns),\n",
    "                'train_data_shape': X_train.shape,\n",
    "                'test_data_shape': X_test.shape\n",
    "            }\n",
    "\n",
    "            training_info_path = os.path.join(self.config.root_dir, 'training_info.pkl')\n",
    "            with open(training_info_path, 'wb') as f:\n",
    "                pickle.dump(training_info, f)\n",
    "\n",
    "            logger.info(f\"Training info saved to {training_info_path}\")\n",
    "\n",
    "            return {\n",
    "                'model': model,\n",
    "                'model_path': model_path,\n",
    "                'training_info': training_info\n",
    "            }\n",
    "\n",
    "        except Exception as e:\n",
    "            logger.error(f\"Error in model training: {e}\")\n",
    "            raise e"
   ]
  },
  {
   "cell_type": "code",
   "execution_count": 6,
   "id": "fc0facf5",
   "metadata": {},
   "outputs": [
    {
     "name": "stderr",
     "output_type": "stream",
     "text": [
      "Target column 'mathematics_score' not found, using 'math_score'\n"
     ]
    }
   ],
   "source": [
    "try:\n",
    "    config = ConfigurationManager()\n",
    "    model_trainer_config = config.get_model_trainer_config()\n",
    "    model_trainer = ModelTrainer(config=model_trainer_config)\n",
    "    model_trainer.train()\n",
    "    logger.info(\"Model training completed successfully\")\n",
    "except Exception as e:\n",
    "    logger.error(f\"Error in model training pipeline: {e}\")\n",
    "    raise e"
   ]
  },
  {
   "cell_type": "code",
   "execution_count": null,
   "id": "070af65d",
   "metadata": {},
   "outputs": [],
   "source": []
  }
 ],
 "metadata": {
  "kernelspec": {
   "display_name": "venv (3.11.5)",
   "language": "python",
   "name": "python3"
  },
  "language_info": {
   "codemirror_mode": {
    "name": "ipython",
    "version": 3
   },
   "file_extension": ".py",
   "mimetype": "text/x-python",
   "name": "python",
   "nbconvert_exporter": "python",
   "pygments_lexer": "ipython3",
   "version": "3.11.5"
  }
 },
 "nbformat": 4,
 "nbformat_minor": 5
}
